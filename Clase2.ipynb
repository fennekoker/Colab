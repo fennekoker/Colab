{
  "nbformat": 4,
  "nbformat_minor": 0,
  "metadata": {
    "colab": {
      "name": "Clase2.ipynb",
      "provenance": [],
      "authorship_tag": "ABX9TyN8We+I0xdDT0lLxhB/8+io",
      "include_colab_link": true
    },
    "kernelspec": {
      "name": "python3",
      "display_name": "Python 3"
    }
  },
  "cells": [
    {
      "cell_type": "markdown",
      "metadata": {
        "id": "view-in-github",
        "colab_type": "text"
      },
      "source": [
        "<a href=\"https://colab.research.google.com/github/fennekoker/Colab/blob/master/Clase2.ipynb\" target=\"_parent\"><img src=\"https://colab.research.google.com/assets/colab-badge.svg\" alt=\"Open In Colab\"/></a>"
      ]
    },
    {
      "cell_type": "code",
      "metadata": {
        "id": "YRp6xBklzRbW",
        "colab_type": "code",
        "colab": {}
      },
      "source": [
        "import torch \n",
        "import numpy as np\n",
        "import pandas as pd\n"
      ],
      "execution_count": 32,
      "outputs": []
    },
    {
      "cell_type": "markdown",
      "metadata": {
        "id": "vl80t_1NDN1v",
        "colab_type": "text"
      },
      "source": [
        "#Trabajando con tensores \n",
        "\n",
        "\n",
        "---\n",
        "\n",
        "\n",
        "\n"
      ]
    },
    {
      "cell_type": "code",
      "metadata": {
        "id": "_ENXR-b-DhVY",
        "colab_type": "code",
        "colab": {
          "base_uri": "https://localhost:8080/",
          "height": 0
        },
        "outputId": "60f24874-cd01-4a70-b2e4-4716f60d08a0"
      },
      "source": [
        "torch.__version__"
      ],
      "execution_count": 5,
      "outputs": [
        {
          "output_type": "execute_result",
          "data": {
            "application/vnd.google.colaboratory.intrinsic": {
              "type": "string"
            },
            "text/plain": [
              "'1.5.1+cu101'"
            ]
          },
          "metadata": {
            "tags": []
          },
          "execution_count": 5
        }
      ]
    },
    {
      "cell_type": "code",
      "metadata": {
        "id": "z-PrHhG5D0Rm",
        "colab_type": "code",
        "colab": {
          "base_uri": "https://localhost:8080/",
          "height": 53
        },
        "outputId": "0a8d470e-e7dc-4a23-89d9-da862dcfc119"
      },
      "source": [
        "tensor_a = torch.ones(2,2)\n",
        "tensor_a"
      ],
      "execution_count": 6,
      "outputs": [
        {
          "output_type": "execute_result",
          "data": {
            "text/plain": [
              "tensor([[1., 1.],\n",
              "        [1., 1.]])"
            ]
          },
          "metadata": {
            "tags": []
          },
          "execution_count": 6
        }
      ]
    },
    {
      "cell_type": "code",
      "metadata": {
        "id": "yiSHaqKVD_9b",
        "colab_type": "code",
        "colab": {
          "base_uri": "https://localhost:8080/",
          "height": 90
        },
        "outputId": "9e6c33c8-7e94-4409-9548-3bba707905f2"
      },
      "source": [
        "tensor_b = torch.Tensor(2,2)\n",
        "print(tensor_b)\n",
        "tensor_b.uniform_(0,1)"
      ],
      "execution_count": 7,
      "outputs": [
        {
          "output_type": "stream",
          "text": [
            "tensor([[1.6163e-35, 0.0000e+00],\n",
            "        [3.7835e-44, 0.0000e+00]])\n"
          ],
          "name": "stdout"
        },
        {
          "output_type": "execute_result",
          "data": {
            "text/plain": [
              "tensor([[0.1634, 0.6114],\n",
              "        [0.2484, 0.8357]])"
            ]
          },
          "metadata": {
            "tags": []
          },
          "execution_count": 7
        }
      ]
    },
    {
      "cell_type": "code",
      "metadata": {
        "id": "DPkBmEnCEWpo",
        "colab_type": "code",
        "colab": {
          "base_uri": "https://localhost:8080/",
          "height": 53
        },
        "outputId": "b7c7ea2e-1863-4c88-f387-b0e712dad005"
      },
      "source": [
        "tensor_c = torch.rand(2,2)\n",
        "tensor_c"
      ],
      "execution_count": 8,
      "outputs": [
        {
          "output_type": "execute_result",
          "data": {
            "text/plain": [
              "tensor([[0.8512, 0.3977],\n",
              "        [0.1256, 0.4173]])"
            ]
          },
          "metadata": {
            "tags": []
          },
          "execution_count": 8
        }
      ]
    },
    {
      "cell_type": "code",
      "metadata": {
        "id": "RIIPIV3jElgr",
        "colab_type": "code",
        "colab": {
          "base_uri": "https://localhost:8080/",
          "height": 53
        },
        "outputId": "03dc84ec-09f0-42d5-bccd-26c7b269e7ca"
      },
      "source": [
        "result = tensor_b + tensor_c\n",
        "result"
      ],
      "execution_count": 12,
      "outputs": [
        {
          "output_type": "execute_result",
          "data": {
            "text/plain": [
              "tensor([[1.0145, 1.0091],\n",
              "        [0.3740, 1.2531]])"
            ]
          },
          "metadata": {
            "tags": []
          },
          "execution_count": 12
        }
      ]
    },
    {
      "cell_type": "code",
      "metadata": {
        "id": "V_tvlOjiExwt",
        "colab_type": "code",
        "colab": {
          "base_uri": "https://localhost:8080/",
          "height": 35
        },
        "outputId": "0832d550-125d-4047-de52-e56bec12edf2"
      },
      "source": [
        "result.shape\n",
        "reshaped = result.view(1,4)\n",
        "reshaped"
      ],
      "execution_count": 14,
      "outputs": [
        {
          "output_type": "execute_result",
          "data": {
            "text/plain": [
              "tensor([[1.0145, 1.0091, 0.3740, 1.2531]])"
            ]
          },
          "metadata": {
            "tags": []
          },
          "execution_count": 14
        }
      ]
    },
    {
      "cell_type": "code",
      "metadata": {
        "id": "00nB79OpFa-W",
        "colab_type": "code",
        "colab": {
          "base_uri": "https://localhost:8080/",
          "height": 181
        },
        "outputId": "80df100b-d325-44c2-926c-75b8d9e60c25"
      },
      "source": [
        "points = torch.tensor([[1.0,4.0],[3.0,9.0]])\n",
        "print(points)\n",
        "points[1][1]=7\n",
        "print(points)\n",
        "points.storage()"
      ],
      "execution_count": 17,
      "outputs": [
        {
          "output_type": "stream",
          "text": [
            "tensor([[1., 4.],\n",
            "        [3., 9.]])\n",
            "tensor([[1., 4.],\n",
            "        [3., 7.]])\n"
          ],
          "name": "stdout"
        },
        {
          "output_type": "execute_result",
          "data": {
            "text/plain": [
              " 1.0\n",
              " 4.0\n",
              " 3.0\n",
              " 7.0\n",
              "[torch.FloatStorage of size 4]"
            ]
          },
          "metadata": {
            "tags": []
          },
          "execution_count": 17
        }
      ]
    },
    {
      "cell_type": "code",
      "metadata": {
        "id": "UUzoqvEyGLen",
        "colab_type": "code",
        "colab": {
          "base_uri": "https://localhost:8080/",
          "height": 53
        },
        "outputId": "8203089b-cd35-4bbb-d5d3-b50b483e3cbd"
      },
      "source": [
        "points,points.stride()"
      ],
      "execution_count": 18,
      "outputs": [
        {
          "output_type": "execute_result",
          "data": {
            "text/plain": [
              "(tensor([[1., 4.],\n",
              "         [3., 7.]]), (2, 1))"
            ]
          },
          "metadata": {
            "tags": []
          },
          "execution_count": 18
        }
      ]
    },
    {
      "cell_type": "code",
      "metadata": {
        "id": "O5mntDuEIZPS",
        "colab_type": "code",
        "colab": {
          "base_uri": "https://localhost:8080/",
          "height": 53
        },
        "outputId": "f21a19f8-0c1c-4359-8b36-91622f0d617a"
      },
      "source": [
        "p_transpuesta = points.t()\n",
        "p_transpuesta,p_transpuesta.stride()"
      ],
      "execution_count": 22,
      "outputs": [
        {
          "output_type": "execute_result",
          "data": {
            "text/plain": [
              "(tensor([[1., 3.],\n",
              "         [4., 7.]]), (1, 2))"
            ]
          },
          "metadata": {
            "tags": []
          },
          "execution_count": 22
        }
      ]
    },
    {
      "cell_type": "markdown",
      "metadata": {
        "id": "A26uvojAVdgE",
        "colab_type": "text"
      },
      "source": [
        ""
      ]
    },
    {
      "cell_type": "code",
      "metadata": {
        "id": "xlGkV-35JFV5",
        "colab_type": "code",
        "colab": {
          "base_uri": "https://localhost:8080/",
          "height": 90
        },
        "outputId": "e76080a0-3ea6-4ea4-a804-c0be4a715089"
      },
      "source": [
        "tensor_x = torch.tensor([1,2,3,4])\n",
        "tensor_x,torch.unsqueeze(tensor_x,1)"
      ],
      "execution_count": 31,
      "outputs": [
        {
          "output_type": "execute_result",
          "data": {
            "text/plain": [
              "(tensor([1, 2, 3, 4]), tensor([[1],\n",
              "         [2],\n",
              "         [3],\n",
              "         [4]]))"
            ]
          },
          "metadata": {
            "tags": []
          },
          "execution_count": 31
        }
      ]
    },
    {
      "cell_type": "code",
      "metadata": {
        "id": "bFQZSbkbirtc",
        "colab_type": "code",
        "colab": {
          "base_uri": "https://localhost:8080/",
          "height": 53
        },
        "outputId": "2c86e62e-e201-4470-f1c8-6b085bfcb2ac"
      },
      "source": [
        "numpyArray = np.random.randn(2,2)\n",
        "numpyArray\n",
        "from_numpy = torch.from_numpy(numpyArray)\n",
        "from_numpy"
      ],
      "execution_count": 37,
      "outputs": [
        {
          "output_type": "execute_result",
          "data": {
            "text/plain": [
              "tensor([[ 0.2715,  0.7981],\n",
              "        [ 0.2107, -0.9119]], dtype=torch.float64)"
            ]
          },
          "metadata": {
            "tags": []
          },
          "execution_count": 37
        }
      ]
    },
    {
      "cell_type": "markdown",
      "metadata": {
        "id": "vHWrn6_brSUH",
        "colab_type": "text"
      },
      "source": [
        "#Representar Datos Con Tensores\n",
        "\n",
        "---\n",
        "\n"
      ]
    },
    {
      "cell_type": "code",
      "metadata": {
        "id": "jXZOa9VxrZKq",
        "colab_type": "code",
        "colab": {
          "base_uri": "https://localhost:8080/",
          "height": 90
        },
        "outputId": "3a8e40be-84c9-43e2-f8cc-2d2bba736506"
      },
      "source": [
        "print(from_numpy)\n",
        "print(torch.mean(from_numpy,dim=0))\n",
        "print(torch.mean(from_numpy,dim=1))"
      ],
      "execution_count": 39,
      "outputs": [
        {
          "output_type": "stream",
          "text": [
            "tensor([[ 0.2715,  0.7981],\n",
            "        [ 0.2107, -0.9119]], dtype=torch.float64)\n",
            "tensor([ 0.2411, -0.0569], dtype=torch.float64)\n",
            "tensor([ 0.5348, -0.3506], dtype=torch.float64)\n"
          ],
          "name": "stdout"
        }
      ]
    },
    {
      "cell_type": "code",
      "metadata": {
        "id": "vMyKyuZ2sPsK",
        "colab_type": "code",
        "colab": {
          "base_uri": "https://localhost:8080/",
          "height": 35
        },
        "outputId": "6c91157f-1a86-4ac6-fbb1-1ed315fbc546"
      },
      "source": [
        "\n",
        "torch.std(from_numpy,dim=1\n",
        "          )"
      ],
      "execution_count": 40,
      "outputs": [
        {
          "output_type": "execute_result",
          "data": {
            "text/plain": [
              "tensor([0.3724, 0.7938], dtype=torch.float64)"
            ]
          },
          "metadata": {
            "tags": []
          },
          "execution_count": 40
        }
      ]
    },
    {
      "cell_type": "code",
      "metadata": {
        "id": "-4_BaVdGsUnU",
        "colab_type": "code",
        "colab": {}
      },
      "source": [
        "torch.save(from_numpy,'tensor.t')"
      ],
      "execution_count": 42,
      "outputs": []
    },
    {
      "cell_type": "code",
      "metadata": {
        "id": "RZxpU3n3sa2T",
        "colab_type": "code",
        "colab": {
          "base_uri": "https://localhost:8080/",
          "height": 53
        },
        "outputId": "ae6c52bd-2670-4b95-c8a2-402da1822a07"
      },
      "source": [
        "load = torch.load('tensor.t')\n",
        "load"
      ],
      "execution_count": 46,
      "outputs": [
        {
          "output_type": "execute_result",
          "data": {
            "text/plain": [
              "tensor([[ 0.2715,  0.7981],\n",
              "        [ 0.2107, -0.9119]], dtype=torch.float64)"
            ]
          },
          "metadata": {
            "tags": []
          },
          "execution_count": 46
        }
      ]
    },
    {
      "cell_type": "code",
      "metadata": {
        "id": "t61OyrCPsyqp",
        "colab_type": "code",
        "colab": {
          "base_uri": "https://localhost:8080/",
          "height": 669
        },
        "outputId": "b915d8ca-be10-4cc7-abae-39538e3da132"
      },
      "source": [
        "# Code to read csv file into Colaboratory:!pip install -U -q PyDrive\n",
        "from pydrive.auth import GoogleAuth\n",
        "from pydrive.drive import GoogleDrive\n",
        "from google.colab import auth\n",
        "import pandas as pd\n",
        "\n",
        "from oauth2client.client import GoogleCredentials# Authenticate and create the PyDrive client.\n",
        "auth.authenticate_user()\n",
        "gauth = GoogleAuth()\n",
        "gauth.credentials = GoogleCredentials.get_application_default()\n",
        "drive = GoogleDrive(gauth)\n",
        "\n",
        "link = '1WMlL-AI9HruuHO3rU7Faa8hti-9TuZec'\n",
        "#fluff, id = link_pokemonCSV.split('=')print (id) # Verify that you have everything after '='\n",
        "\n",
        "downloaded = drive.CreateFile({'id':link}) \n",
        "downloaded.GetContentFile('england-premier-league-players-2019-to-2020-stats.csv')  \n",
        "mi_dataframe = pd.read_csv('england-premier-league-players-2019-to-2020-stats.csv')# Dataset is now stored in a Pandas Dataframe\n",
        "mi_dataframe"
      ],
      "execution_count": 64,
      "outputs": [
        {
          "output_type": "execute_result",
          "data": {
            "text/html": [
              "<div>\n",
              "<style scoped>\n",
              "    .dataframe tbody tr th:only-of-type {\n",
              "        vertical-align: middle;\n",
              "    }\n",
              "\n",
              "    .dataframe tbody tr th {\n",
              "        vertical-align: top;\n",
              "    }\n",
              "\n",
              "    .dataframe thead th {\n",
              "        text-align: right;\n",
              "    }\n",
              "</style>\n",
              "<table border=\"1\" class=\"dataframe\">\n",
              "  <thead>\n",
              "    <tr style=\"text-align: right;\">\n",
              "      <th></th>\n",
              "      <th>full_name</th>\n",
              "      <th>age</th>\n",
              "      <th>birthday</th>\n",
              "      <th>league</th>\n",
              "      <th>season</th>\n",
              "      <th>position</th>\n",
              "      <th>Current Club</th>\n",
              "      <th>minutes_played_overall</th>\n",
              "      <th>minutes_played_home</th>\n",
              "      <th>minutes_played_away</th>\n",
              "      <th>nationality</th>\n",
              "      <th>appearances_overall</th>\n",
              "      <th>appearances_home</th>\n",
              "      <th>appearances_away</th>\n",
              "      <th>goals_overall</th>\n",
              "      <th>goals_home</th>\n",
              "      <th>goals_away</th>\n",
              "      <th>assists_overall</th>\n",
              "      <th>assists_home</th>\n",
              "      <th>assists_away</th>\n",
              "      <th>penalty_goals</th>\n",
              "      <th>penalty_misses</th>\n",
              "      <th>clean_sheets_overall</th>\n",
              "      <th>clean_sheets_home</th>\n",
              "      <th>clean_sheets_away</th>\n",
              "      <th>conceded_overall</th>\n",
              "      <th>conceded_home</th>\n",
              "      <th>conceded_away</th>\n",
              "      <th>yellow_cards_overall</th>\n",
              "      <th>red_cards_overall</th>\n",
              "      <th>goals_involved_per_90_overall</th>\n",
              "      <th>assists_per_90_overall</th>\n",
              "      <th>goals_per_90_overall</th>\n",
              "      <th>goals_per_90_home</th>\n",
              "      <th>goals_per_90_away</th>\n",
              "      <th>min_per_goal_overall</th>\n",
              "      <th>conceded_per_90_overall</th>\n",
              "      <th>min_per_conceded_overall</th>\n",
              "      <th>min_per_match</th>\n",
              "      <th>min_per_card_overall</th>\n",
              "      <th>min_per_assist_overall</th>\n",
              "      <th>cards_per_90_overall</th>\n",
              "      <th>rank_in_league_top_attackers</th>\n",
              "      <th>rank_in_league_top_midfielders</th>\n",
              "      <th>rank_in_league_top_defenders</th>\n",
              "      <th>rank_in_club_top_scorer</th>\n",
              "    </tr>\n",
              "  </thead>\n",
              "  <tbody>\n",
              "    <tr>\n",
              "      <th>0</th>\n",
              "      <td>Kenny Mclean</td>\n",
              "      <td>28</td>\n",
              "      <td>694857600</td>\n",
              "      <td>Premier League</td>\n",
              "      <td>2019/2020</td>\n",
              "      <td>Midfielder</td>\n",
              "      <td>Norwich City</td>\n",
              "      <td>2876</td>\n",
              "      <td>1391</td>\n",
              "      <td>1485</td>\n",
              "      <td>Scotland</td>\n",
              "      <td>36</td>\n",
              "      <td>15</td>\n",
              "      <td>16</td>\n",
              "      <td>1</td>\n",
              "      <td>1</td>\n",
              "      <td>0</td>\n",
              "      <td>1</td>\n",
              "      <td>1</td>\n",
              "      <td>0</td>\n",
              "      <td>0</td>\n",
              "      <td>0</td>\n",
              "      <td>5</td>\n",
              "      <td>2</td>\n",
              "      <td>3</td>\n",
              "      <td>56</td>\n",
              "      <td>28</td>\n",
              "      <td>28</td>\n",
              "      <td>5</td>\n",
              "      <td>0</td>\n",
              "      <td>0.06</td>\n",
              "      <td>0.03</td>\n",
              "      <td>0.03</td>\n",
              "      <td>0.06</td>\n",
              "      <td>0.00</td>\n",
              "      <td>2876</td>\n",
              "      <td>1.75</td>\n",
              "      <td>51</td>\n",
              "      <td>80</td>\n",
              "      <td>575</td>\n",
              "      <td>2876</td>\n",
              "      <td>0.16</td>\n",
              "      <td>243</td>\n",
              "      <td>252</td>\n",
              "      <td>-1</td>\n",
              "      <td>9</td>\n",
              "    </tr>\n",
              "    <tr>\n",
              "      <th>1</th>\n",
              "      <td>Kieran Tierney</td>\n",
              "      <td>23</td>\n",
              "      <td>865494000</td>\n",
              "      <td>Premier League</td>\n",
              "      <td>2019/2020</td>\n",
              "      <td>Defender</td>\n",
              "      <td>Arsenal</td>\n",
              "      <td>872</td>\n",
              "      <td>540</td>\n",
              "      <td>332</td>\n",
              "      <td>Scotland</td>\n",
              "      <td>13</td>\n",
              "      <td>6</td>\n",
              "      <td>5</td>\n",
              "      <td>0</td>\n",
              "      <td>0</td>\n",
              "      <td>0</td>\n",
              "      <td>0</td>\n",
              "      <td>0</td>\n",
              "      <td>0</td>\n",
              "      <td>0</td>\n",
              "      <td>0</td>\n",
              "      <td>3</td>\n",
              "      <td>1</td>\n",
              "      <td>2</td>\n",
              "      <td>12</td>\n",
              "      <td>8</td>\n",
              "      <td>4</td>\n",
              "      <td>2</td>\n",
              "      <td>0</td>\n",
              "      <td>0.00</td>\n",
              "      <td>0.00</td>\n",
              "      <td>0.00</td>\n",
              "      <td>0.00</td>\n",
              "      <td>0.00</td>\n",
              "      <td>0</td>\n",
              "      <td>1.24</td>\n",
              "      <td>73</td>\n",
              "      <td>67</td>\n",
              "      <td>436</td>\n",
              "      <td>0</td>\n",
              "      <td>0.21</td>\n",
              "      <td>288</td>\n",
              "      <td>331</td>\n",
              "      <td>72</td>\n",
              "      <td>21</td>\n",
              "    </tr>\n",
              "    <tr>\n",
              "      <th>2</th>\n",
              "      <td>Stuart Armstrong</td>\n",
              "      <td>28</td>\n",
              "      <td>701942400</td>\n",
              "      <td>Premier League</td>\n",
              "      <td>2019/2020</td>\n",
              "      <td>Midfielder</td>\n",
              "      <td>Southampton</td>\n",
              "      <td>1596</td>\n",
              "      <td>714</td>\n",
              "      <td>882</td>\n",
              "      <td>Scotland</td>\n",
              "      <td>28</td>\n",
              "      <td>7</td>\n",
              "      <td>10</td>\n",
              "      <td>5</td>\n",
              "      <td>1</td>\n",
              "      <td>4</td>\n",
              "      <td>3</td>\n",
              "      <td>1</td>\n",
              "      <td>2</td>\n",
              "      <td>0</td>\n",
              "      <td>0</td>\n",
              "      <td>8</td>\n",
              "      <td>3</td>\n",
              "      <td>5</td>\n",
              "      <td>22</td>\n",
              "      <td>10</td>\n",
              "      <td>12</td>\n",
              "      <td>4</td>\n",
              "      <td>0</td>\n",
              "      <td>0.45</td>\n",
              "      <td>0.17</td>\n",
              "      <td>0.28</td>\n",
              "      <td>0.13</td>\n",
              "      <td>0.41</td>\n",
              "      <td>319</td>\n",
              "      <td>1.24</td>\n",
              "      <td>73</td>\n",
              "      <td>57</td>\n",
              "      <td>399</td>\n",
              "      <td>532</td>\n",
              "      <td>0.23</td>\n",
              "      <td>60</td>\n",
              "      <td>77</td>\n",
              "      <td>-1</td>\n",
              "      <td>3</td>\n",
              "    </tr>\n",
              "    <tr>\n",
              "      <th>3</th>\n",
              "      <td>Patrick Roberts</td>\n",
              "      <td>23</td>\n",
              "      <td>855129600</td>\n",
              "      <td>Premier League</td>\n",
              "      <td>2019/2020</td>\n",
              "      <td>Midfielder</td>\n",
              "      <td>Norwich City</td>\n",
              "      <td>23</td>\n",
              "      <td>14</td>\n",
              "      <td>9</td>\n",
              "      <td>England</td>\n",
              "      <td>3</td>\n",
              "      <td>0</td>\n",
              "      <td>0</td>\n",
              "      <td>0</td>\n",
              "      <td>0</td>\n",
              "      <td>0</td>\n",
              "      <td>0</td>\n",
              "      <td>0</td>\n",
              "      <td>0</td>\n",
              "      <td>0</td>\n",
              "      <td>0</td>\n",
              "      <td>0</td>\n",
              "      <td>0</td>\n",
              "      <td>0</td>\n",
              "      <td>1</td>\n",
              "      <td>1</td>\n",
              "      <td>0</td>\n",
              "      <td>0</td>\n",
              "      <td>0</td>\n",
              "      <td>0.00</td>\n",
              "      <td>0.00</td>\n",
              "      <td>0.00</td>\n",
              "      <td>0.00</td>\n",
              "      <td>0.00</td>\n",
              "      <td>0</td>\n",
              "      <td>3.91</td>\n",
              "      <td>23</td>\n",
              "      <td>8</td>\n",
              "      <td>0</td>\n",
              "      <td>0</td>\n",
              "      <td>0.00</td>\n",
              "      <td>-1</td>\n",
              "      <td>-1</td>\n",
              "      <td>-1</td>\n",
              "      <td>20</td>\n",
              "    </tr>\n",
              "    <tr>\n",
              "      <th>4</th>\n",
              "      <td>James Maddison</td>\n",
              "      <td>23</td>\n",
              "      <td>848736000</td>\n",
              "      <td>Premier League</td>\n",
              "      <td>2019/2020</td>\n",
              "      <td>Midfielder</td>\n",
              "      <td>Leicester City</td>\n",
              "      <td>2628</td>\n",
              "      <td>1315</td>\n",
              "      <td>1313</td>\n",
              "      <td>England</td>\n",
              "      <td>31</td>\n",
              "      <td>15</td>\n",
              "      <td>14</td>\n",
              "      <td>6</td>\n",
              "      <td>3</td>\n",
              "      <td>3</td>\n",
              "      <td>3</td>\n",
              "      <td>0</td>\n",
              "      <td>3</td>\n",
              "      <td>0</td>\n",
              "      <td>0</td>\n",
              "      <td>10</td>\n",
              "      <td>5</td>\n",
              "      <td>5</td>\n",
              "      <td>25</td>\n",
              "      <td>14</td>\n",
              "      <td>11</td>\n",
              "      <td>4</td>\n",
              "      <td>0</td>\n",
              "      <td>0.31</td>\n",
              "      <td>0.10</td>\n",
              "      <td>0.21</td>\n",
              "      <td>0.21</td>\n",
              "      <td>0.21</td>\n",
              "      <td>438</td>\n",
              "      <td>0.86</td>\n",
              "      <td>105</td>\n",
              "      <td>85</td>\n",
              "      <td>657</td>\n",
              "      <td>876</td>\n",
              "      <td>0.14</td>\n",
              "      <td>84</td>\n",
              "      <td>136</td>\n",
              "      <td>-1</td>\n",
              "      <td>4</td>\n",
              "    </tr>\n",
              "    <tr>\n",
              "      <th>...</th>\n",
              "      <td>...</td>\n",
              "      <td>...</td>\n",
              "      <td>...</td>\n",
              "      <td>...</td>\n",
              "      <td>...</td>\n",
              "      <td>...</td>\n",
              "      <td>...</td>\n",
              "      <td>...</td>\n",
              "      <td>...</td>\n",
              "      <td>...</td>\n",
              "      <td>...</td>\n",
              "      <td>...</td>\n",
              "      <td>...</td>\n",
              "      <td>...</td>\n",
              "      <td>...</td>\n",
              "      <td>...</td>\n",
              "      <td>...</td>\n",
              "      <td>...</td>\n",
              "      <td>...</td>\n",
              "      <td>...</td>\n",
              "      <td>...</td>\n",
              "      <td>...</td>\n",
              "      <td>...</td>\n",
              "      <td>...</td>\n",
              "      <td>...</td>\n",
              "      <td>...</td>\n",
              "      <td>...</td>\n",
              "      <td>...</td>\n",
              "      <td>...</td>\n",
              "      <td>...</td>\n",
              "      <td>...</td>\n",
              "      <td>...</td>\n",
              "      <td>...</td>\n",
              "      <td>...</td>\n",
              "      <td>...</td>\n",
              "      <td>...</td>\n",
              "      <td>...</td>\n",
              "      <td>...</td>\n",
              "      <td>...</td>\n",
              "      <td>...</td>\n",
              "      <td>...</td>\n",
              "      <td>...</td>\n",
              "      <td>...</td>\n",
              "      <td>...</td>\n",
              "      <td>...</td>\n",
              "      <td>...</td>\n",
              "    </tr>\n",
              "    <tr>\n",
              "      <th>606</th>\n",
              "      <td>Christain Saydee</td>\n",
              "      <td>18</td>\n",
              "      <td>1021014000</td>\n",
              "      <td>Premier League</td>\n",
              "      <td>2019/2020</td>\n",
              "      <td>Forward</td>\n",
              "      <td>AFC Bournemouth</td>\n",
              "      <td>0</td>\n",
              "      <td>0</td>\n",
              "      <td>0</td>\n",
              "      <td>England</td>\n",
              "      <td>0</td>\n",
              "      <td>0</td>\n",
              "      <td>0</td>\n",
              "      <td>0</td>\n",
              "      <td>0</td>\n",
              "      <td>0</td>\n",
              "      <td>0</td>\n",
              "      <td>0</td>\n",
              "      <td>0</td>\n",
              "      <td>0</td>\n",
              "      <td>0</td>\n",
              "      <td>0</td>\n",
              "      <td>0</td>\n",
              "      <td>0</td>\n",
              "      <td>0</td>\n",
              "      <td>0</td>\n",
              "      <td>0</td>\n",
              "      <td>0</td>\n",
              "      <td>0</td>\n",
              "      <td>0.00</td>\n",
              "      <td>0.00</td>\n",
              "      <td>0.00</td>\n",
              "      <td>0.00</td>\n",
              "      <td>0.00</td>\n",
              "      <td>0</td>\n",
              "      <td>0.00</td>\n",
              "      <td>0</td>\n",
              "      <td>0</td>\n",
              "      <td>0</td>\n",
              "      <td>0</td>\n",
              "      <td>0.00</td>\n",
              "      <td>-1</td>\n",
              "      <td>-1</td>\n",
              "      <td>-1</td>\n",
              "      <td>-1</td>\n",
              "    </tr>\n",
              "    <tr>\n",
              "      <th>607</th>\n",
              "      <td>Tyrick Mitchell</td>\n",
              "      <td>20</td>\n",
              "      <td>936169200</td>\n",
              "      <td>Premier League</td>\n",
              "      <td>2019/2020</td>\n",
              "      <td>Defender</td>\n",
              "      <td>Crystal Palace</td>\n",
              "      <td>13</td>\n",
              "      <td>6</td>\n",
              "      <td>7</td>\n",
              "      <td>England</td>\n",
              "      <td>2</td>\n",
              "      <td>0</td>\n",
              "      <td>0</td>\n",
              "      <td>0</td>\n",
              "      <td>0</td>\n",
              "      <td>0</td>\n",
              "      <td>0</td>\n",
              "      <td>0</td>\n",
              "      <td>0</td>\n",
              "      <td>0</td>\n",
              "      <td>0</td>\n",
              "      <td>0</td>\n",
              "      <td>0</td>\n",
              "      <td>0</td>\n",
              "      <td>0</td>\n",
              "      <td>0</td>\n",
              "      <td>0</td>\n",
              "      <td>0</td>\n",
              "      <td>0</td>\n",
              "      <td>0.00</td>\n",
              "      <td>0.00</td>\n",
              "      <td>0.00</td>\n",
              "      <td>0.00</td>\n",
              "      <td>0.00</td>\n",
              "      <td>0</td>\n",
              "      <td>0.00</td>\n",
              "      <td>0</td>\n",
              "      <td>7</td>\n",
              "      <td>0</td>\n",
              "      <td>0</td>\n",
              "      <td>0.00</td>\n",
              "      <td>-1</td>\n",
              "      <td>-1</td>\n",
              "      <td>-1</td>\n",
              "      <td>14</td>\n",
              "    </tr>\n",
              "    <tr>\n",
              "      <th>608</th>\n",
              "      <td>Brandon Pierrick</td>\n",
              "      <td>18</td>\n",
              "      <td>1007971200</td>\n",
              "      <td>Premier League</td>\n",
              "      <td>2019/2020</td>\n",
              "      <td>Midfielder</td>\n",
              "      <td>Crystal Palace</td>\n",
              "      <td>7</td>\n",
              "      <td>0</td>\n",
              "      <td>7</td>\n",
              "      <td>England</td>\n",
              "      <td>1</td>\n",
              "      <td>0</td>\n",
              "      <td>0</td>\n",
              "      <td>0</td>\n",
              "      <td>0</td>\n",
              "      <td>0</td>\n",
              "      <td>0</td>\n",
              "      <td>0</td>\n",
              "      <td>0</td>\n",
              "      <td>0</td>\n",
              "      <td>0</td>\n",
              "      <td>0</td>\n",
              "      <td>0</td>\n",
              "      <td>0</td>\n",
              "      <td>0</td>\n",
              "      <td>0</td>\n",
              "      <td>0</td>\n",
              "      <td>0</td>\n",
              "      <td>0</td>\n",
              "      <td>0.00</td>\n",
              "      <td>0.00</td>\n",
              "      <td>0.00</td>\n",
              "      <td>0.00</td>\n",
              "      <td>0.00</td>\n",
              "      <td>0</td>\n",
              "      <td>0.00</td>\n",
              "      <td>0</td>\n",
              "      <td>7</td>\n",
              "      <td>0</td>\n",
              "      <td>0</td>\n",
              "      <td>0.00</td>\n",
              "      <td>-1</td>\n",
              "      <td>-1</td>\n",
              "      <td>-1</td>\n",
              "      <td>13</td>\n",
              "    </tr>\n",
              "    <tr>\n",
              "      <th>609</th>\n",
              "      <td>Brandon Leroy Pierrick Keutcha</td>\n",
              "      <td>18</td>\n",
              "      <td>1007971200</td>\n",
              "      <td>Premier League</td>\n",
              "      <td>2019/2020</td>\n",
              "      <td>Midfielder</td>\n",
              "      <td>Crystal Palace</td>\n",
              "      <td>6</td>\n",
              "      <td>0</td>\n",
              "      <td>6</td>\n",
              "      <td>England</td>\n",
              "      <td>1</td>\n",
              "      <td>0</td>\n",
              "      <td>0</td>\n",
              "      <td>0</td>\n",
              "      <td>0</td>\n",
              "      <td>0</td>\n",
              "      <td>0</td>\n",
              "      <td>0</td>\n",
              "      <td>0</td>\n",
              "      <td>0</td>\n",
              "      <td>0</td>\n",
              "      <td>0</td>\n",
              "      <td>0</td>\n",
              "      <td>0</td>\n",
              "      <td>0</td>\n",
              "      <td>0</td>\n",
              "      <td>0</td>\n",
              "      <td>0</td>\n",
              "      <td>0</td>\n",
              "      <td>0.00</td>\n",
              "      <td>0.00</td>\n",
              "      <td>0.00</td>\n",
              "      <td>0.00</td>\n",
              "      <td>0.00</td>\n",
              "      <td>0</td>\n",
              "      <td>0.00</td>\n",
              "      <td>0</td>\n",
              "      <td>6</td>\n",
              "      <td>0</td>\n",
              "      <td>0</td>\n",
              "      <td>0.00</td>\n",
              "      <td>-1</td>\n",
              "      <td>-1</td>\n",
              "      <td>-1</td>\n",
              "      <td>26</td>\n",
              "    </tr>\n",
              "    <tr>\n",
              "      <th>610</th>\n",
              "      <td>Bobby Thomas</td>\n",
              "      <td>0</td>\n",
              "      <td>0</td>\n",
              "      <td>Premier League</td>\n",
              "      <td>2019/2020</td>\n",
              "      <td>Defender</td>\n",
              "      <td>Burnley</td>\n",
              "      <td>0</td>\n",
              "      <td>0</td>\n",
              "      <td>0</td>\n",
              "      <td>England</td>\n",
              "      <td>0</td>\n",
              "      <td>0</td>\n",
              "      <td>0</td>\n",
              "      <td>0</td>\n",
              "      <td>0</td>\n",
              "      <td>0</td>\n",
              "      <td>0</td>\n",
              "      <td>0</td>\n",
              "      <td>0</td>\n",
              "      <td>0</td>\n",
              "      <td>0</td>\n",
              "      <td>0</td>\n",
              "      <td>0</td>\n",
              "      <td>0</td>\n",
              "      <td>0</td>\n",
              "      <td>0</td>\n",
              "      <td>0</td>\n",
              "      <td>0</td>\n",
              "      <td>0</td>\n",
              "      <td>0.00</td>\n",
              "      <td>0.00</td>\n",
              "      <td>0.00</td>\n",
              "      <td>0.00</td>\n",
              "      <td>0.00</td>\n",
              "      <td>0</td>\n",
              "      <td>0.00</td>\n",
              "      <td>0</td>\n",
              "      <td>0</td>\n",
              "      <td>0</td>\n",
              "      <td>0</td>\n",
              "      <td>0.00</td>\n",
              "      <td>-1</td>\n",
              "      <td>-1</td>\n",
              "      <td>-1</td>\n",
              "      <td>-1</td>\n",
              "    </tr>\n",
              "  </tbody>\n",
              "</table>\n",
              "<p>611 rows × 46 columns</p>\n",
              "</div>"
            ],
            "text/plain": [
              "                          full_name  ...  rank_in_club_top_scorer\n",
              "0                      Kenny Mclean  ...                        9\n",
              "1                    Kieran Tierney  ...                       21\n",
              "2                  Stuart Armstrong  ...                        3\n",
              "3                   Patrick Roberts  ...                       20\n",
              "4                    James Maddison  ...                        4\n",
              "..                              ...  ...                      ...\n",
              "606                Christain Saydee  ...                       -1\n",
              "607                 Tyrick Mitchell  ...                       14\n",
              "608                Brandon Pierrick  ...                       13\n",
              "609  Brandon Leroy Pierrick Keutcha  ...                       26\n",
              "610                    Bobby Thomas  ...                       -1\n",
              "\n",
              "[611 rows x 46 columns]"
            ]
          },
          "metadata": {
            "tags": []
          },
          "execution_count": 64
        }
      ]
    },
    {
      "cell_type": "code",
      "metadata": {
        "id": "MikkWVkZ55k6",
        "colab_type": "code",
        "colab": {
          "base_uri": "https://localhost:8080/",
          "height": 308
        },
        "outputId": "55e2af08-d49d-4eff-bf09-e13a308fee88"
      },
      "source": [
        "mi_dataframe.columns"
      ],
      "execution_count": 65,
      "outputs": [
        {
          "output_type": "execute_result",
          "data": {
            "text/plain": [
              "Index(['full_name', 'age', 'birthday', 'league', 'season', 'position',\n",
              "       'Current Club', 'minutes_played_overall', 'minutes_played_home',\n",
              "       'minutes_played_away', 'nationality', 'appearances_overall',\n",
              "       'appearances_home', 'appearances_away', 'goals_overall', 'goals_home',\n",
              "       'goals_away', 'assists_overall', 'assists_home', 'assists_away',\n",
              "       'penalty_goals', 'penalty_misses', 'clean_sheets_overall',\n",
              "       'clean_sheets_home', 'clean_sheets_away', 'conceded_overall',\n",
              "       'conceded_home', 'conceded_away', 'yellow_cards_overall',\n",
              "       'red_cards_overall', 'goals_involved_per_90_overall',\n",
              "       'assists_per_90_overall', 'goals_per_90_overall', 'goals_per_90_home',\n",
              "       'goals_per_90_away', 'min_per_goal_overall', 'conceded_per_90_overall',\n",
              "       'min_per_conceded_overall', 'min_per_match', 'min_per_card_overall',\n",
              "       'min_per_assist_overall', 'cards_per_90_overall',\n",
              "       'rank_in_league_top_attackers', 'rank_in_league_top_midfielders',\n",
              "       'rank_in_league_top_defenders', 'rank_in_club_top_scorer'],\n",
              "      dtype='object')"
            ]
          },
          "metadata": {
            "tags": []
          },
          "execution_count": 65
        }
      ]
    },
    {
      "cell_type": "code",
      "metadata": {
        "id": "k0Uokr1T-ONp",
        "colab_type": "code",
        "colab": {
          "base_uri": "https://localhost:8080/",
          "height": 35
        },
        "outputId": "c9df8286-3353-46b8-abd7-ce2d380d9fbf"
      },
      "source": [
        "subset = mi_dataframe[['goals_overall','age','appearances_overall','minutes_played_overall','assists_overall']]\n",
        "columns = subset.columns[1:]\n",
        "players = torch.tensor(subset.values).float()\n",
        "players.shape,players.type()"
      ],
      "execution_count": 95,
      "outputs": [
        {
          "output_type": "execute_result",
          "data": {
            "text/plain": [
              "(torch.Size([611, 5]), 'torch.FloatTensor')"
            ]
          },
          "metadata": {
            "tags": []
          },
          "execution_count": 95
        }
      ]
    },
    {
      "cell_type": "code",
      "metadata": {
        "id": "1lTBF4WRD012",
        "colab_type": "code",
        "colab": {
          "base_uri": "https://localhost:8080/",
          "height": 162
        },
        "outputId": "1558077c-aaef-479e-a7d3-64365d22c1e6"
      },
      "source": [
        "data = players[:,1:]\n",
        "data,data.shape"
      ],
      "execution_count": 67,
      "outputs": [
        {
          "output_type": "execute_result",
          "data": {
            "text/plain": [
              "(tensor([[2.8000e+01, 3.6000e+01, 2.8760e+03, 1.0000e+00],\n",
              "         [2.3000e+01, 1.3000e+01, 8.7200e+02, 0.0000e+00],\n",
              "         [2.8000e+01, 2.8000e+01, 1.5960e+03, 3.0000e+00],\n",
              "         ...,\n",
              "         [1.8000e+01, 1.0000e+00, 7.0000e+00, 0.0000e+00],\n",
              "         [1.8000e+01, 1.0000e+00, 6.0000e+00, 0.0000e+00],\n",
              "         [0.0000e+00, 0.0000e+00, 0.0000e+00, 0.0000e+00]]),\n",
              " torch.Size([611, 4]))"
            ]
          },
          "metadata": {
            "tags": []
          },
          "execution_count": 67
        }
      ]
    },
    {
      "cell_type": "code",
      "metadata": {
        "id": "LxfThAuTEe47",
        "colab_type": "code",
        "colab": {
          "base_uri": "https://localhost:8080/",
          "height": 816
        },
        "outputId": "0d3ec690-1144-4b2b-91f4-9e2e11f3d711"
      },
      "source": [
        "target = players[:,0]\n",
        "target,target.shape"
      ],
      "execution_count": 68,
      "outputs": [
        {
          "output_type": "execute_result",
          "data": {
            "text/plain": [
              "(tensor([ 1.,  0.,  5.,  0.,  6.,  1.,  2., 20.,  0.,  0.,  8.,  0.,  1.,  0.,\n",
              "          2.,  0.,  0.,  0.,  0.,  0.,  0.,  0.,  1.,  1.,  0.,  1.,  0.,  1.,\n",
              "          0.,  0.,  0., 11.,  0.,  3.,  0.,  2.,  1.,  0., 11.,  0.,  2.,  0.,\n",
              "          1.,  0.,  0.,  2.,  0.,  0.,  1.,  0.,  0.,  4.,  3.,  5.,  0.,  4.,\n",
              "          0.,  3.,  0.,  0.,  0.,  3.,  0.,  0.,  0.,  0.,  0.,  0.,  3.,  2.,\n",
              "          0.,  0.,  0.,  1.,  0.,  0.,  1.,  1.,  3.,  1.,  4.,  6.,  0.,  4.,\n",
              "          4.,  1.,  2.,  0.,  0.,  2.,  1.,  3.,  0.,  0.,  1.,  1.,  2.,  0.,\n",
              "          2.,  8.,  0., 15.,  2.,  0.,  0.,  0.,  1.,  0.,  1.,  0.,  0.,  0.,\n",
              "          0., 10., 23.,  2.,  3.,  7.,  0.,  0.,  0.,  5.,  2.,  2.,  0.,  0.,\n",
              "         10.,  1., 17.,  0.,  4.,  0.,  6.,  2.,  1., 11.,  0.,  2.,  1.,  5.,\n",
              "          1.,  0.,  0.,  1.,  2.,  2.,  0.,  2.,  0.,  1.,  2.,  0.,  0.,  0.,\n",
              "          1.,  4.,  1.,  0.,  1.,  2.,  0.,  0.,  0.,  0.,  0.,  0.,  1.,  4.,\n",
              "          0.,  1.,  1.,  0.,  0.,  0.,  0.,  0.,  4.,  1.,  4.,  5.,  2.,  0.,\n",
              "          0.,  0.,  0.,  0.,  9.,  8.,  0.,  2.,  3.,  0.,  0.,  0.,  0.,  0.,\n",
              "          0.,  1.,  0.,  0.,  0.,  8.,  5.,  0.,  0.,  0., 17.,  3.,  2.,  0.,\n",
              "          0.,  0., 17.,  1.,  0.,  3.,  1.,  4., 17.,  0.,  3.,  0.,  2.,  0.,\n",
              "          3.,  0.,  0.,  4.,  1.,  9.,  0.,  1.,  0.,  0.,  0.,  2.,  1.,  0.,\n",
              "          0.,  1.,  4.,  0.,  1.,  0.,  6.,  0.,  1.,  0.,  3.,  0.,  0.,  1.,\n",
              "          0.,  0.,  2.,  2.,  4.,  0.,  0.,  4.,  0.,  0.,  0.,  0.,  0.,  6.,\n",
              "          2.,  2.,  3.,  0.,  0.,  0.,  1.,  6., 13.,  3.,  0.,  0.,  0.,  0.,\n",
              "          0.,  0.,  1.,  0.,  0.,  0.,  1.,  2.,  9.,  7.,  0.,  0.,  0.,  0.,\n",
              "          0.,  4.,  0.,  0.,  0.,  0.,  2.,  2.,  0.,  1.,  1.,  0.,  3.,  6.,\n",
              "          0.,  8.,  0.,  0., 20.,  0.,  7.,  1.,  1.,  0.,  0.,  0.,  0.,  0.,\n",
              "          0.,  1., 13.,  0.,  0.,  1.,  0.,  0.,  1.,  0.,  0.,  0.,  0.,  3.,\n",
              "          3.,  0.,  0.,  0.,  1.,  0.,  0.,  0.,  0.,  0.,  0.,  3.,  1.,  1.,\n",
              "          2.,  2.,  3.,  2.,  3.,  0.,  0.,  1.,  0.,  4.,  1.,  0.,  0.,  0.,\n",
              "          0.,  1.,  0.,  2.,  0.,  1.,  0.,  0.,  0.,  0.,  0.,  0.,  0.,  0.,\n",
              "          0.,  0.,  1.,  2.,  4.,  0.,  3.,  0.,  0.,  2.,  5.,  1.,  0.,  0.,\n",
              "          0.,  0.,  0.,  2.,  1.,  0.,  0.,  0.,  0.,  0.,  0.,  0.,  0.,  2.,\n",
              "          0.,  0.,  1.,  0.,  1.,  7.,  0.,  0.,  2.,  0.,  0.,  0.,  5.,  0.,\n",
              "          5.,  3.,  0.,  0.,  0., 10.,  0.,  1.,  7.,  1.,  1.,  2.,  5.,  1.,\n",
              "          0.,  0.,  1.,  0.,  1.,  1., 12.,  2.,  0.,  0.,  0.,  4.,  0.,  0.,\n",
              "          1.,  3.,  0.,  0.,  0.,  0.,  6.,  2.,  0.,  0.,  3.,  0.,  1.,  0.,\n",
              "          0.,  0.,  0.,  0.,  6.,  0.,  1.,  0.,  0.,  0.,  2.,  0.,  0.,  0.,\n",
              "          0.,  0.,  0.,  0.,  0.,  0.,  0.,  0.,  0.,  0.,  0.,  0.,  0.,  1.,\n",
              "          0.,  0.,  0.,  3.,  0.,  0.,  0.,  0.,  1.,  9.,  0.,  0.,  0.,  0.,\n",
              "          0.,  0.,  0.,  0.,  0.,  2.,  0.,  0.,  0.,  2.,  1.,  0.,  0.,  0.,\n",
              "          1.,  0.,  1.,  0.,  0.,  0.,  0.,  0.,  0.,  0.,  0.,  0.,  0.,  0.,\n",
              "          0.,  1.,  3.,  0.,  0.,  0.,  0.,  0.,  0.,  0.,  0.,  0.,  0.,  0.,\n",
              "          0.,  2.,  0.,  0.,  0.,  0.,  0.,  0.,  0.,  0.,  0.,  0.,  0.,  0.,\n",
              "         16.,  0.,  0.,  0.,  2.,  6.,  0.,  9.,  0.,  2.,  1.,  3.,  0.,  2.,\n",
              "          1.,  2.,  0.,  2.,  2.,  1.,  0.,  8.,  2.,  1., 19., 17.,  0.,  1.,\n",
              "          0.,  1.,  0.,  2.,  1.,  1.,  6.,  5.,  2.,  0.,  1., 13., 14.,  3.,\n",
              "          0.,  0.,  0.,  0.,  0.,  0.,  0.,  0.,  0.]), torch.Size([611]))"
            ]
          },
          "metadata": {
            "tags": []
          },
          "execution_count": 68
        }
      ]
    },
    {
      "cell_type": "code",
      "metadata": {
        "id": "zOJCWOOlFMdU",
        "colab_type": "code",
        "colab": {
          "base_uri": "https://localhost:8080/",
          "height": 35
        },
        "outputId": "ccf4b3ca-f392-44a4-cbc3-c591dcf4c601"
      },
      "source": [
        "mean = torch.mean(data,dim=0)\n",
        "mean"
      ],
      "execution_count": 69,
      "outputs": [
        {
          "output_type": "execute_result",
          "data": {
            "text/plain": [
              "tensor([2.5589e+01, 1.6442e+01, 1.1677e+03, 1.0949e+00])"
            ]
          },
          "metadata": {
            "tags": []
          },
          "execution_count": 69
        }
      ]
    },
    {
      "cell_type": "code",
      "metadata": {
        "id": "HtpqKhdgGXmc",
        "colab_type": "code",
        "colab": {
          "base_uri": "https://localhost:8080/",
          "height": 35
        },
        "outputId": "1c593849-4c26-4b19-f885-b8689a56630a"
      },
      "source": [
        "std = torch.std(data,dim=0)\n",
        "std"
      ],
      "execution_count": 91,
      "outputs": [
        {
          "output_type": "execute_result",
          "data": {
            "text/plain": [
              "tensor([   5.9445,   12.5426, 1049.2861,    1.9361])"
            ]
          },
          "metadata": {
            "tags": []
          },
          "execution_count": 91
        }
      ]
    },
    {
      "cell_type": "code",
      "metadata": {
        "id": "DI88EJXpPu_z",
        "colab_type": "code",
        "colab": {
          "base_uri": "https://localhost:8080/",
          "height": 144
        },
        "outputId": "ef9b730e-b97b-4565-e873-fe493f35e70a"
      },
      "source": [
        "norm = (data-mean)/torch.sqrt(std)\n",
        "norm"
      ],
      "execution_count": 96,
      "outputs": [
        {
          "output_type": "execute_result",
          "data": {
            "text/plain": [
              "tensor([[  0.9888,   5.5225,  52.7383,  -0.0682],\n",
              "        [ -1.0620,  -0.9719,  -9.1275,  -0.7869],\n",
              "        [  0.9888,   3.2636,  13.2232,   1.3692],\n",
              "        ...,\n",
              "        [ -3.1127,  -4.3602, -35.8311,  -0.7869],\n",
              "        [ -3.1127,  -4.3602, -35.8619,  -0.7869],\n",
              "        [-10.4954,  -4.6426, -36.0472,  -0.7869]])"
            ]
          },
          "metadata": {
            "tags": []
          },
          "execution_count": 96
        }
      ]
    },
    {
      "cell_type": "code",
      "metadata": {
        "id": "b1jpSfHRP7bZ",
        "colab_type": "code",
        "colab": {
          "base_uri": "https://localhost:8080/",
          "height": 72
        },
        "outputId": "1d37bb9d-21b2-400c-d1e0-b141afcb2486"
      },
      "source": [
        "good = data[torch.ge(target,15)]\n",
        "average = data[torch.gt(target,7)&torch.lt(target,15)]\n",
        "notSoGood = data[torch.lt(target,7)]\n",
        "\n",
        "goodMean = torch.mean(good, dim=0)\n",
        "averageMean = torch.mean(average, dim=0)\n",
        "notSoGoodMean = torch.mean(notSoGood, dim=0)\n",
        "\n",
        "goodMean,averageMean,notSoGoodMean"
      ],
      "execution_count": 100,
      "outputs": [
        {
          "output_type": "execute_result",
          "data": {
            "text/plain": [
              "(tensor([  27.7273,   31.3636, 2568.7273,    4.4545]),\n",
              " tensor([  26.3636,   30.9545, 2231.5454,    4.3182]),\n",
              " tensor([2.5531e+01, 1.5503e+01, 1.0925e+03, 8.9005e-01]))"
            ]
          },
          "metadata": {
            "tags": []
          },
          "execution_count": 100
        }
      ]
    },
    {
      "cell_type": "code",
      "metadata": {
        "id": "w7MGkFepRJ6k",
        "colab_type": "code",
        "colab": {
          "base_uri": "https://localhost:8080/",
          "height": 90
        },
        "outputId": "f8449e95-1d75-42ee-8e8b-3b375bd79aee"
      },
      "source": [
        "for i, args in enumerate(zip(columns,goodMean,averageMean,notSoGoodMean)) :\n",
        "  print('{:25}{:6.2f}{:6.2f}{:6.2f}'.format(*args))"
      ],
      "execution_count": 104,
      "outputs": [
        {
          "output_type": "stream",
          "text": [
            "age                       27.73 26.36 25.53\n",
            "appearances_overall       31.36 30.95 15.50\n",
            "minutes_played_overall   2568.732231.551092.52\n",
            "assists_overall            4.45  4.32  0.89\n"
          ],
          "name": "stdout"
        }
      ]
    },
    {
      "cell_type": "code",
      "metadata": {
        "id": "p-kl2SuWQIjN",
        "colab_type": "code",
        "colab": {}
      },
      "source": [
        ""
      ],
      "execution_count": null,
      "outputs": []
    }
  ]
}